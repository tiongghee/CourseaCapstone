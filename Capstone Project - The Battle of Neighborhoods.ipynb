{
 "cells": [
  {
   "cell_type": "markdown",
   "metadata": {},
   "source": [
    "# Applied Data Science Capstone - Week 4 Project "
   ]
  },
  {
   "cell_type": "markdown",
   "metadata": {},
   "source": [
    "## Introduction/Business Problem"
   ]
  },
  {
   "cell_type": "markdown",
   "metadata": {},
   "source": [
    "<html>\n",
    "    <body>For this project, I would like to create a neighborhood search database that is able to make neighbor recommendations based on customers' venue selection.<br><br>\n",
    "    The targeted customers for my project would be people who are new to Toronto, people who are trying to identify a new neighborhood to start a business, or simply for people who are looking for a new neighbor to visit.<br><br>\n",
    "    Based on the <a href=\"https://github.com/tiongghee/CourseaCapstone/blob/master/Segmenting%20and%20Clustering%20Neighborhoods%20in%20Toronto.ipynb\">previous project</a>, I have created a dataset that is able to identify the 10 top venues within neighborhoods in Toronto. Using the created dataset, I would like to be able to make neighborhood recommendations to customers based on their venue prefernces. For example, I would like to stay near, within 500m, museums, resturants, and markets. \n",
    "    </body>\n",
    "</html> "
   ]
  },
  {
   "cell_type": "markdown",
   "metadata": {},
   "source": [
    "## The Solution"
   ]
  },
  {
   "cell_type": "markdown",
   "metadata": {},
   "source": [
    "<html><body>The solution will use clustering algorithm, Kmeans, to form clusters based on venues. Subsequently, customers'' selections will be scored against this model to identify cluster that the belongs to. The neighborhoods belonging to that cluster will be recommended to the customer.</body></html>"
   ]
  },
  {
   "cell_type": "markdown",
   "metadata": {},
   "source": [
    "## Data Source for the Project"
   ]
  },
  {
   "cell_type": "markdown",
   "metadata": {},
   "source": [
    "<html>\n",
    "    <body>The following data sources are used for the project:<br><ul>\n",
    "        <li><a href='https://en.wikipedia.org/wiki/List_of_postal_codes_of_Canada:_M'>Wiki List of postal codes of Canada</a>. From this Wiki page, I will be able to extract the list of Postal code and Neighborhood in Canada.</li>\n",
    "        <li><a href='https://developers.google.com/maps/documentation/javascript/geocoding'>Google Map Platform</a>. Using the Google Map API, I will be able to retrieve Latitude and Longtitude Data based on Postal Code.</li>        \n",
    "        <li><a href='www.foursquare.com'>Foursquare</a>. Finally, using the Lat and Long value, I will be able to retrieve popular venues within a neighborhood.</li></ul><br>These data will be merged to form a Anaytic dataset that will contain top 10 venues for each neighborhood. This dataset will be the basis for running Kmeans.</body>\n",
    "</html>"
   ]
  },
  {
   "cell_type": "code",
   "execution_count": null,
   "metadata": {},
   "outputs": [],
   "source": []
  }
 ],
 "metadata": {
  "kernelspec": {
   "display_name": "Python 3",
   "language": "python",
   "name": "python3"
  },
  "language_info": {
   "codemirror_mode": {
    "name": "ipython",
    "version": 3
   },
   "file_extension": ".py",
   "mimetype": "text/x-python",
   "name": "python",
   "nbconvert_exporter": "python",
   "pygments_lexer": "ipython3",
   "version": "3.7.2"
  }
 },
 "nbformat": 4,
 "nbformat_minor": 2
}
