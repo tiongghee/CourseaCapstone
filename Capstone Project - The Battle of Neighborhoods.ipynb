{
 "cells": [
  {
   "cell_type": "markdown",
   "metadata": {},
   "source": [
    "# Applied Data Science Capstone - Week 4 Project "
   ]
  },
  {
   "cell_type": "markdown",
   "metadata": {},
   "source": [
    "## Introduction/Business Problem"
   ]
  },
  {
   "cell_type": "markdown",
   "metadata": {},
   "source": [
    "<html>\n",
    "    <body>I made a trip to London recently and found that the accommodation is very expensive as compared to the other European countries. When I was choosing an Airbnb apartment, I had difficulty choosing which area to stay. With this project, I hope to be able to help other tourists, like myself, choose a neighborhood to stay in based on selected preferences. For example, Chinese restaurants, threaters, museum, etc. As there are too many <a href='https://en.wikipedia.org/wiki/London_postal_district'>neighborhoods in London</a>, I will just focus on Western Districts.<br><br>\n",
    "    The targeted customers for my project will be tourists who are new to London, tourists who are trying to identify a new neighborhood to stay, or simply for tourists who are looking for a new neighbor to visit.<br><br>\n",
    "    Using the solution, the customers will be presented a list of venues and they will be able to select their preferences. Based on the selection, the customers will be recommended neighborhoods to visit.\n",
    "    </body>\n",
    "</html> "
   ]
  },
  {
   "cell_type": "markdown",
   "metadata": {},
   "source": [
    "## The Solution"
   ]
  },
  {
   "cell_type": "markdown",
   "metadata": {},
   "source": [
    "<html><body>The solution will use clustering algorithm, Kmeans, to form clusters based on venues. Subsequently, customers'' selections will be scored against this model to identify cluster that the belongs to. The neighborhoods belonging to that cluster will be recommended to the customer.</body></html>"
   ]
  },
  {
   "cell_type": "markdown",
   "metadata": {},
   "source": [
    "## Data Source for the Project"
   ]
  },
  {
   "cell_type": "markdown",
   "metadata": {},
   "source": [
    "<html>\n",
    "    <body>The following data sources are used for the project:<br><ul>\n",
    "        <li><a href='https://en.wikipedia.org/wiki/W_postcode_area'>Wiki List of postal codes of Western London</a>. From this Wiki page, I will be able to extract the list of Postal code and Neighborhood in Western London.</li>\n",
    "        <li><a href='https://developers.google.com/maps/documentation/javascript/geocoding'>Google Map Platform</a>. Using the Google Map API, I will be able to retrieve Latitude and Longtitude Data based on Postal Code.</li>        \n",
    "        <li><a href='www.foursquare.com'>Foursquare</a>. Finally, using the Lat and Long value, I will be able to retrieve popular venues within a neighborhood.</li></ul><br>These data will be merged to form a Anaytic dataset that will contain top 10 venues for each neighborhood. This dataset will be the basis for running Kmeans.</body>\n",
    "</html>"
   ]
  },
  {
   "cell_type": "code",
   "execution_count": null,
   "metadata": {},
   "outputs": [],
   "source": []
  }
 ],
 "metadata": {
  "kernelspec": {
   "display_name": "Python 3",
   "language": "python",
   "name": "python3"
  },
  "language_info": {
   "codemirror_mode": {
    "name": "ipython",
    "version": 3
   },
   "file_extension": ".py",
   "mimetype": "text/x-python",
   "name": "python",
   "nbconvert_exporter": "python",
   "pygments_lexer": "ipython3",
   "version": "3.7.2"
  }
 },
 "nbformat": 4,
 "nbformat_minor": 2
}
